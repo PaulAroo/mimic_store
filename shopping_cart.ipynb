{
 "cells": [
  {
   "cell_type": "markdown",
   "id": "a745a4bb",
   "metadata": {},
   "source": [
    "### Implement a cart"
   ]
  },
  {
   "cell_type": "code",
   "execution_count": 1,
   "id": "88d28d2c",
   "metadata": {},
   "outputs": [],
   "source": [
    "cart = ''"
   ]
  },
  {
   "cell_type": "markdown",
   "id": "22e7dda7",
   "metadata": {},
   "source": [
    "##### 1st approach"
   ]
  },
  {
   "cell_type": "code",
   "execution_count": 2,
   "id": "b893bcb8",
   "metadata": {},
   "outputs": [
    {
     "name": "stdout",
     "output_type": "stream",
     "text": [
      "Enter an item name: book\n",
      "enter quantity: 3\n",
      "You have 3 books in your cart\n"
     ]
    }
   ],
   "source": [
    "itm1=input(\"Enter an item name: \").lower()\n",
    "qty1=int(input(\"enter quantity: \"))\n",
    "cart+=itm1*qty1\n",
    "x = cart.count(itm1)\n",
    "print(\"You have {} {}s in your cart\".format(x, itm1))"
   ]
  },
  {
   "cell_type": "code",
   "execution_count": 2,
   "id": "10cb83fd",
   "metadata": {},
   "outputs": [],
   "source": [
    "cart = ''"
   ]
  },
  {
   "cell_type": "markdown",
   "id": "a00a2072",
   "metadata": {},
   "source": [
    "##### 2nd approach"
   ]
  },
  {
   "cell_type": "code",
   "execution_count": 3,
   "id": "7dc887dc",
   "metadata": {},
   "outputs": [
    {
     "name": "stdout",
     "output_type": "stream",
     "text": [
      "\n",
      "You have 1 item(s) in you cart:  ['egg-->10']\n"
     ]
    }
   ],
   "source": [
    "itm=input(\"Enter an item name: \").lower()\n",
    "qty=input(\"enter quantity: \")\n",
    "if itm in cart:\n",
    "    t = cart.split(',')\n",
    "    for i in t:\n",
    "        if itm in i:\n",
    "            existing = i.split('-->')\n",
    "            new_qty = int(qty) + int(existing[1])\n",
    "            new_listing = \"{}-->{}\".format(itm, new_qty)\n",
    "            cart = cart.replace(i, new_listing)\n",
    "        else:\n",
    "            pass\n",
    "else:\n",
    "    cart += \"{}-->{},\".format(itm, qty)\n",
    "\n",
    "cart_display = cart.split(',')[:-1]\n",
    "print(\"\\nYou have {} item(s) in you cart: \".format(len(cart_display)),cart_display)"
   ]
  }
 ],
 "metadata": {
  "kernelspec": {
   "display_name": "Python 3 (ipykernel)",
   "language": "python",
   "name": "python3"
  },
  "language_info": {
   "codemirror_mode": {
    "name": "ipython",
    "version": 3
   },
   "file_extension": ".py",
   "mimetype": "text/x-python",
   "name": "python",
   "nbconvert_exporter": "python",
   "pygments_lexer": "ipython3",
   "version": "3.10.2"
  }
 },
 "nbformat": 4,
 "nbformat_minor": 5
}
